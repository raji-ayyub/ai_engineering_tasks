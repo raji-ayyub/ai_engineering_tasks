{
 "cells": [
  {
   "cell_type": "markdown",
   "id": "fb9947ff",
   "metadata": {},
   "source": [
    "# Solution for Task 14: Matrix; using numpy\n"
   ]
  },
  {
   "cell_type": "markdown",
   "id": "8262926c",
   "metadata": {},
   "source": [
    "### Que: 1\n",
    "\n",
    "matrix A =\n",
    "\\begin{bmatrix}\n",
    " 2 & -1 \\\\\n",
    " 0 & 3\n",
    "\\end{bmatrix}\n",
    "\n",
    "\n",
    "matrix B = \n",
    "\\begin{bmatrix}\n",
    " 1 & -2 \\\\\n",
    " 4 & 5\n",
    "\\end{bmatrix}\n",
    "\n",
    "where scalers: c = 2 & d = 3;"
   ]
  },
  {
   "cell_type": "markdown",
   "id": "cfd9a4aa",
   "metadata": {},
   "source": [
    "### a.)"
   ]
  },
  {
   "cell_type": "code",
   "execution_count": 9,
   "id": "0c67b567",
   "metadata": {},
   "outputs": [
    {
     "name": "stdout",
     "output_type": "stream",
     "text": [
      "1.i. cA is give by:\n",
      "[[ 4 -2]\n",
      " [ 0  6]]\n",
      "1.ii. dA is give by:\n",
      "[[ 4 -2]\n",
      " [ 0  6]]\n",
      "1.iii. (c+d)A is give by:\n",
      "[[10 -5]\n",
      " [ 0 15]]\n"
     ]
    }
   ],
   "source": [
    "import numpy as np\n",
    "import pandas as pd\n",
    "\n",
    "\n",
    "matrix_A = np.array([[2, -1],\n",
    "                      [0, 3]])\n",
    "\n",
    "matrix_B = np.array([[2, -1],\n",
    "                      [0, 3]])\n",
    "\n",
    "c, d = 2, 3\n",
    "\n",
    "cA = c * matrix_A\n",
    "\n",
    "print(\"1.i. cA is give by:\")\n",
    "print(cA)\n",
    "\n",
    "print(\"1.ii. dA is give by:\")\n",
    "dB = c * matrix_B\n",
    "print(dB)\n",
    "\n",
    "print(\"1.iii. (c+d)A is give by:\")\n",
    "\n",
    "print((c+d)* matrix_A)"
   ]
  },
  {
   "cell_type": "markdown",
   "id": "a6cf5903",
   "metadata": {},
   "source": [
    "### 1b."
   ]
  },
  {
   "cell_type": "code",
   "execution_count": null,
   "id": "b83e4506",
   "metadata": {},
   "outputs": [],
   "source": []
  },
  {
   "cell_type": "markdown",
   "id": "17d21602",
   "metadata": {},
   "source": [
    "### 1c."
   ]
  },
  {
   "cell_type": "code",
   "execution_count": 10,
   "id": "7695de19",
   "metadata": {},
   "outputs": [
    {
     "name": "stdout",
     "output_type": "stream",
     "text": [
      "Transpose of A:\n",
      " [[ 2  0]\n",
      " [-1  3]]\n",
      "Transpose of B:\n",
      " [[ 2  0]\n",
      " [-1  3]]\n"
     ]
    }
   ],
   "source": [
    "transpose_A = np.transpose(matrix_A)\n",
    "transpose_B = np.transpose(matrix_B)\n",
    "\n",
    "print(\"Transpose of A:\\n\", transpose_A)\n",
    "print(\"Transpose of B:\\n\", transpose_B)"
   ]
  },
  {
   "cell_type": "markdown",
   "id": "614603cf",
   "metadata": {},
   "source": [
    "### 1d."
   ]
  },
  {
   "cell_type": "markdown",
   "id": "cfdb194c",
   "metadata": {},
   "source": [
    "Checking Determinant for Invertibility:\n"
   ]
  },
  {
   "cell_type": "code",
   "execution_count": 12,
   "id": "44527e18",
   "metadata": {},
   "outputs": [
    {
     "name": "stdout",
     "output_type": "stream",
     "text": [
      "Checking Determinant for Invertibility:\n",
      "Determinant of A: 6.0\n",
      "Determinant of B: 6.0\n",
      "Inverse of A:\n",
      " [[0.5        0.16666667]\n",
      " [0.         0.33333333]]\n",
      "Inverse of B:\n",
      " [[0.5        0.16666667]\n",
      " [0.         0.33333333]]\n"
     ]
    }
   ],
   "source": [
    "print(\"Checking Determinant for Invertibility:\")\n",
    "det_A = np.linalg.det(matrix_A)\n",
    "det_B = np.linalg.det(matrix_B)\n",
    "\n",
    "print(\"Determinant of A:\", det_A)\n",
    "print(\"Determinant of B:\", det_B)\n",
    "\n",
    "# Check invertibility\n",
    "if det_A != 0:\n",
    "    inv_A = np.linalg.inv(matrix_A)\n",
    "    print(\"Inverse of A:\\n\", inv_A)\n",
    "else:\n",
    "    print(\"Matrix A is not invertible.\")\n",
    "\n",
    "if det_B != 0:\n",
    "    inv_B = np.linalg.inv(matrix_B)\n",
    "    print(\"Inverse of B:\\n\", inv_B)\n",
    "else:\n",
    "    print(\"Matrix B is not invertible.\")"
   ]
  },
  {
   "cell_type": "markdown",
   "id": "896e69d4",
   "metadata": {},
   "source": [
    "### Finding the inverse of A and B:"
   ]
  },
  {
   "cell_type": "code",
   "execution_count": 14,
   "id": "65b46ce7",
   "metadata": {},
   "outputs": [
    {
     "name": "stdout",
     "output_type": "stream",
     "text": [
      "Finding the inverse of A and B:\n",
      "Inverse of A:\n",
      " [[0.5        0.16666667]\n",
      " [0.         0.33333333]]\n",
      "Inverse of B:\n",
      " [[0.5        0.16666667]\n",
      " [0.         0.33333333]]\n"
     ]
    }
   ],
   "source": [
    "print(\"Finding the inverse of A and B:\")\n",
    "\n",
    "inv_A = np.linalg.inv(matrix_A)\n",
    "inv_B = np.linalg.inv(matrix_B)\n",
    "\n",
    "print(\"Inverse of A:\\n\", inv_A)\n",
    "print(\"Inverse of B:\\n\", inv_B)\n"
   ]
  }
 ],
 "metadata": {
  "kernelspec": {
   "display_name": ".venv",
   "language": "python",
   "name": "python3"
  },
  "language_info": {
   "codemirror_mode": {
    "name": "ipython",
    "version": 3
   },
   "file_extension": ".py",
   "mimetype": "text/x-python",
   "name": "python",
   "nbconvert_exporter": "python",
   "pygments_lexer": "ipython3",
   "version": "3.13.7"
  }
 },
 "nbformat": 4,
 "nbformat_minor": 5
}
