{
 "cells": [
  {
   "cell_type": "markdown",
   "id": "8ffeb6ea",
   "metadata": {},
   "source": [
    "## Students' performance analysis"
   ]
  },
  {
   "cell_type": "markdown",
   "id": "29e2f0c5",
   "metadata": {},
   "source": [
    "### 1. Students' total score per"
   ]
  },
  {
   "cell_type": "code",
   "execution_count": 139,
   "id": "ef7810e0",
   "metadata": {},
   "outputs": [
    {
     "name": "stdout",
     "output_type": "stream",
     "text": [
      "student_1 has total score: 225\n",
      "student_2 has total score: 203\n",
      "student_3 has total score: 232\n",
      "student_4 has total score: 216\n",
      "student_5 has total score: 221\n"
     ]
    }
   ],
   "source": [
    "# %pip install numpy pandas\n",
    "import numpy as np\n",
    "import pandas as pd\n",
    "\n",
    "subjects = [\"maths\", \"physics\", \"yoruba\", \"french\"]\n",
    "\n",
    "students = [\"student_1\", \"student_2\", \"student_3\", \"student_4\", \"student_5\",]\n",
    "\n",
    "studentPerformance = np.array([[80, 40, 60, 45],\n",
    "                               [75, 45, 60, 23],\n",
    "                               [85, 50, 62, 35],\n",
    "                               [75, 44, 54, 43],\n",
    "                               [88, 45, 65, 23]])\n",
    "\n",
    "\n",
    "\n",
    "studentPerformance.shape[0]\n",
    "\n",
    "# Loop through each student (row in the array)\n",
    "for i in range(studentPerformance.shape[0]):\n",
    "    student_total = studentPerformance[i, :].sum()\n",
    "    print(f\"{students[i]} has total score: {student_total}\")\n",
    "\n",
    "# studentPerformance.shape[0]\n",
    "\n",
    "# # Loop through each student (row in the array)\n",
    "# student_total_score = np.zeros(studentPerformance.shape[0])\n",
    "\n",
    "# for i in range(studentPerformance.shape[0]):\n",
    "#     student_total_score[i] = studentPerformance[i, :].sum()\n",
    "    \n",
    "# print(f\"Student_{i+1} has total score: {student_total_score}\")"
   ]
  },
  {
   "cell_type": "code",
   "execution_count": 149,
   "id": "22c6773c",
   "metadata": {},
   "outputs": [
    {
     "name": "stdout",
     "output_type": "stream",
     "text": [
      "maths average score: 100.75\n",
      "physics average score: 56.0\n",
      "yoruba average score: 75.25\n",
      "french average score: 42.25\n"
     ]
    }
   ],
   "source": [
    "\n",
    "\n",
    "\n",
    "for i in range(studentPerformance.shape[1]):\n",
    "    subject_average = studentPerformance[:, i].sum()\n",
    "    subject_average = subject_average/4\n",
    "    print(f\"{subjects[i]} average score: {subject_average}\")\n",
    "\n",
    "\n"
   ]
  },
  {
   "cell_type": "markdown",
   "id": "4e83c246",
   "metadata": {},
   "source": [
    "### 2. Weighing by Scalar"
   ]
  },
  {
   "cell_type": "code",
   "execution_count": 151,
   "id": "86392419",
   "metadata": {},
   "outputs": [
    {
     "name": "stdout",
     "output_type": "stream",
     "text": [
      "[[240  40  60  45]\n",
      " [225  45  60  23]\n",
      " [255  50  62  35]\n",
      " [225  44  54  43]\n",
      " [264  45  65  23]]\n"
     ]
    }
   ],
   "source": [
    "\n",
    "\n",
    "# data_1 = studentPerformance[0, :]\n",
    "# print(data_1)\n",
    "\n",
    "\n",
    "# result = data_1 * scaler\n",
    "# print(result)\n",
    "\n",
    "scaler = [3, 1, 1, 1]\n",
    "\n",
    "scaled_matrix_1 = np.zeros_like(studentPerformance)\n",
    "\n",
    "for i in range(studentPerformance.shape[0]):\n",
    "    data = studentPerformance[i, :]\n",
    "    scaled_matrix_1[i, :] = data * scaler  \n",
    "\n",
    "print(scaled_matrix_1)"
   ]
  },
  {
   "cell_type": "markdown",
   "id": "b0a13704",
   "metadata": {},
   "source": [
    "### 3. Weighing to total grades by scaling"
   ]
  },
  {
   "cell_type": "code",
   "execution_count": null,
   "id": "72883490",
   "metadata": {},
   "outputs": [
    {
     "name": "stdout",
     "output_type": "stream",
     "text": [
      "[[ 96   8  18   4]\n",
      " [ 90   9  18   2]\n",
      " [102  10  18   3]\n",
      " [ 90   8  16   4]\n",
      " [105   9  19   2]]\n"
     ]
    }
   ],
   "source": [
    "scaler_2 = [0.4, 0.2, 0.3, 0.1]\n",
    "\n",
    "scaled_matrix_2 = np.zeros_like(scaled_matrix_1)\n",
    "\n",
    "for i in range(studentPerformance.shape[0]):\n",
    "    data = scaled_matrix_1[i, :]\n",
    "    scaled_matrix_2[i, :] = data * scaler_2\n",
    "    \n",
    "\n",
    "    \n",
    "\n",
    "print(scaled_matrix_2)"
   ]
  },
  {
   "cell_type": "markdown",
   "id": "eee1ee3c",
   "metadata": {},
   "source": [
    "### Comparing students 3 and 4 for best performer"
   ]
  },
  {
   "cell_type": "code",
   "execution_count": null,
   "id": "6cd6a72a",
   "metadata": {},
   "outputs": [
    {
     "name": "stdout",
     "output_type": "stream",
     "text": [
      "[102  10  18   3]\n",
      "[90  8 16  4]\n",
      "Subject maths:  ['student 3 performed better' 'student 3 performed better'\n",
      " 'student 3 performed better' 'student 4 performed better']\n",
      "Subject physics:  ['student 3 performed better' 'student 3 performed better'\n",
      " 'student 3 performed better' 'student 4 performed better']\n",
      "Subject yoruba:  ['student 3 performed better' 'student 3 performed better'\n",
      " 'student 3 performed better' 'student 4 performed better']\n",
      "Subject french:  ['student 3 performed better' 'student 3 performed better'\n",
      " 'student 3 performed better' 'student 4 performed better']\n"
     ]
    }
   ],
   "source": [
    "score_for_s3 = scaled_matrix_2[2, :]\n",
    "score_for_s4 = scaled_matrix_2[3, :]\n",
    "\n",
    "print(score_for_s3)\n",
    "print(score_for_s4)\n",
    "\n",
    "\n",
    "result = score_for_s3 - score_for_s4\n",
    "\n",
    "\n",
    "result = np.where(result < 0, \"student 4 performed better\", \"student 3 performed better\")\n",
    "\n",
    "\n",
    "\n",
    "for i in range(result.shape[0]):\n",
    "   print(f'Subject {subjects[i]}:  {result}')\n",
    "\n",
    "\n"
   ]
  },
  {
   "cell_type": "code",
   "execution_count": null,
   "id": "0e14be3e",
   "metadata": {},
   "outputs": [],
   "source": []
  }
 ],
 "metadata": {
  "kernelspec": {
   "display_name": ".venv",
   "language": "python",
   "name": "python3"
  },
  "language_info": {
   "codemirror_mode": {
    "name": "ipython",
    "version": 3
   },
   "file_extension": ".py",
   "mimetype": "text/x-python",
   "name": "python",
   "nbconvert_exporter": "python",
   "pygments_lexer": "ipython3",
   "version": "3.13.7"
  }
 },
 "nbformat": 4,
 "nbformat_minor": 5
}
